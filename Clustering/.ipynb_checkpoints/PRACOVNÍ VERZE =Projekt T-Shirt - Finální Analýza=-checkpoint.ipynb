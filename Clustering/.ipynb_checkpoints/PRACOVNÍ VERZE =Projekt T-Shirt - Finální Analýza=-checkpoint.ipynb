{
 "cells": [
  {
   "cell_type": "markdown",
   "metadata": {},
   "source": [
    "# Shlukování"
   ]
  },
  {
   "cell_type": "markdown",
   "metadata": {},
   "source": [
    "## 1. Otázka"
   ]
  },
  {
   "cell_type": "markdown",
   "metadata": {},
   "source": [
    "Sem převeďte zadání do smysluplných otázek, které chcete odpovědět."
   ]
  },
  {
   "cell_type": "markdown",
   "metadata": {},
   "source": [
    "## 2. Průzkumová analýza dat"
   ]
  },
  {
   "cell_type": "markdown",
   "metadata": {},
   "source": [
    "Průzkumová analýza je uceleně a detailně provedena v rámci skriptu **02 Průzkumová Analýza Dat**."
   ]
  },
  {
   "cell_type": "markdown",
   "metadata": {},
   "source": [
    "### 2.1 Načtení a předzpracování dat"
   ]
  },
  {
   "cell_type": "markdown",
   "metadata": {},
   "source": [
    "Postup je následující:\n",
    "\n",
    "* Načtení původních dat z .csv souboru.\n",
    "* Vyřešení NaN hodnot. Takový řádek je jediný a vzhledem k množství dat jej není nutné nahrazovat a proto je odstraněn.\n",
    "* Vyřešení odlehlých pozorování. Jedno pozorování je evidentně nesmyslné a proto je odstraněno. Opět vzhledem k množství dat je tato ztráta zanedbatelná.\n",
    "* V zadání nebyly specifikovány jednotky, původní nedávaly smysl, byly různé jednou v cm, jednou v mm. Jednotky byly sjednoceny na cm a sloupce přejmenovány."
   ]
  },
  {
   "cell_type": "code",
   "execution_count": 1,
   "metadata": {
    "collapsed": false
   },
   "outputs": [],
   "source": [
    "#sem vyplňtě postup vytvoření čisté sady CO NEJÚSPORNĚJI, \n",
    "#detailní postupa a analýza pro případného zájemce je v příslušném notebooku\n"
   ]
  },
  {
   "cell_type": "code",
   "execution_count": 2,
   "metadata": {
    "collapsed": false
   },
   "outputs": [],
   "source": [
    "#zobrazení\n"
   ]
  },
  {
   "cell_type": "markdown",
   "metadata": {},
   "source": [
    "### 2.2 Vizualizace dat\n",
    "\n",
    "Po předzpracování data vypadají následovně."
   ]
  },
  {
   "cell_type": "code",
   "execution_count": 3,
   "metadata": {
    "collapsed": false
   },
   "outputs": [],
   "source": [
    "#sem vložte kód, který data zobrazí.\n"
   ]
  },
  {
   "cell_type": "markdown",
   "metadata": {},
   "source": [
    "## 3. Modelování"
   ]
  },
  {
   "cell_type": "markdown",
   "metadata": {},
   "source": [
    "Modelování je uceleně a detailně provedeno v rámci skriptu **03 Modelování**."
   ]
  },
  {
   "cell_type": "markdown",
   "metadata": {},
   "source": [
    "Otázky jsme se rozhodli zodpovědět pomocí shlukování, konktrétně modelu k-means (k-středů). Pro posouzení optimálního počtu shluků bylo provedeno následující:\n",
    "\n",
    "* Optická validace a konzultace s doménovým expertem.\n",
    "* Metoda \"lokte\".\n",
    "* Jako optimální velikosti byly voleny středy shluků.\n",
    "\n",
    "Vzhledem k povaze problému je algoritmus k-středů s Euklidovskou metrikou výbornou volbou, protože dává kompaktní shluky kulovitého charakteru."
   ]
  },
  {
   "cell_type": "code",
   "execution_count": 5,
   "metadata": {
    "collapsed": false
   },
   "outputs": [],
   "source": [
    "#zde vyplňtě kód pro jeden vámi zvolený shluk\n"
   ]
  },
  {
   "cell_type": "code",
   "execution_count": 6,
   "metadata": {
    "collapsed": false
   },
   "outputs": [],
   "source": [
    "#zde vyplňte kód pro volbu optimálního počtu shluků pomocí metody \"lokte\".\n"
   ]
  },
  {
   "cell_type": "markdown",
   "metadata": {},
   "source": [
    "## 4. Interpretace"
   ]
  },
  {
   "cell_type": "markdown",
   "metadata": {},
   "source": [
    "Zde vyplťe vaši interpretaci výsledků a doporučení pro management firmy."
   ]
  },
  {
   "cell_type": "markdown",
   "metadata": {},
   "source": [
    "## 5. Komunikace výsledků"
   ]
  }
 ],
 "metadata": {
  "anaconda-cloud": {},
  "kernelspec": {
   "display_name": "Python [default]",
   "language": "python",
   "name": "python3"
  },
  "language_info": {
   "codemirror_mode": {
    "name": "ipython",
    "version": 3
   },
   "file_extension": ".py",
   "mimetype": "text/x-python",
   "name": "python",
   "nbconvert_exporter": "python",
   "pygments_lexer": "ipython3",
   "version": "3.5.2"
  }
 },
 "nbformat": 4,
 "nbformat_minor": 2
}
