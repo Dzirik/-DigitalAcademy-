{
 "cells": [
  {
   "cell_type": "markdown",
   "metadata": {},
   "source": [
    "# K-means úlohy pro sestavení třídy\n",
    "\n",
    "Tento notebook slouží jako dílčí hřiště pro implementaci třídy k-means.\n",
    "\n",
    ">**POZOR:** Každá úloha se skládá ze dvou buňek (cells) kódů - data a pak kód. Před každým spuštěním kódu doporučuji spoustit nejrve data!"
   ]
  },
  {
   "cell_type": "code",
   "execution_count": 2,
   "metadata": {
    "collapsed": true
   },
   "outputs": [],
   "source": [
    "import numpy as np\n",
    "import matplotlib.pyplot as plt"
   ]
  },
  {
   "cell_type": "markdown",
   "metadata": {},
   "source": [
    "## Úloha 1 - Předání dat\n",
    "\n",
    "V inicializaci třídy je třeba:\n",
    "* předat hodnotu *k* do proměnné *k* v třídě (metoda *__init__*),\n",
    "* předat data *X* do proměnné *X* v třídě (metoda *vlozData*)."
   ]
  },
  {
   "cell_type": "markdown",
   "metadata": {},
   "source": [
    "## Úloha 2 - Vykreslení dat\n",
    "\n",
    "aneb opakování matka moudrosti. Připravte kód, který:\n",
    "* Vykreslí ve 2D data v proměnné X.\n",
    "* Využijte maximum vlastních znalostí:\n",
    "    * Nastavte barvu bodů.\n",
    "    * Nastavte tvar bodů.\n",
    "    * Nastavte popisky os.\n",
    "    * Nazvěte graf.\n",
    "    * ...\n",
    "    \n",
    "> **POZOR** Místo *%matplotlib notebook* použijte v závěru příkaz *plt.show()*"
   ]
  },
  {
   "cell_type": "code",
   "execution_count": 4,
   "metadata": {
    "collapsed": false
   },
   "outputs": [
    {
     "data": {
      "text/plain": [
       "array([[-1. , -1. ],\n",
       "       [-0.8, -1. ],\n",
       "       [-1.1, -1. ],\n",
       "       [ 0. ,  0. ],\n",
       "       [ 0. ,  0.2],\n",
       "       [-0.1,  0.2],\n",
       "       [ 0. ,  2. ],\n",
       "       [ 0.1,  1.9],\n",
       "       [-0.2,  2.2]])"
      ]
     },
     "execution_count": 4,
     "metadata": {},
     "output_type": "execute_result"
    }
   ],
   "source": [
    "#cvičná data a jak vypadají\n",
    "X = np.array([[-1,-1],[-0.8,-1],[-1.1,-1],\n",
    "              [0,0],[0,0.2],[-0.1,0.2],\n",
    "              [0,2],[0.1,1.9],[-0.2,2.2]])\n",
    "X"
   ]
  },
  {
   "cell_type": "code",
   "execution_count": 5,
   "metadata": {
    "collapsed": false
   },
   "outputs": [
    {
     "data": {
      "image/png": "[encoded data removed]",
      "text/plain": [
       "<matplotlib.figure.Figure at 0x15da7cd65f8>"
      ]
     },
     "metadata": {},
     "output_type": "display_data"
    }
   ],
   "source": [
    "#vykreslete data dle specifikace\n",
    "\n",
    "\n",
    "#NECHAT\n",
    "plt.show()"
   ]
  },
  {
   "cell_type": "markdown",
   "metadata": {},
   "source": [
    "Nyní využijte kód v třídě *kStredu* a upravte metodu *vykresliData*"
   ]
  },
  {
   "cell_type": "markdown",
   "metadata": {},
   "source": [
    "## Úloha 3 - Vykreslení shluků\n",
    "\n",
    "Připravte kód, který:\n",
    "* Vykreslí ve 2D data v proměnné *X*.\n",
    "* Obarví data podle příslušnosti dané vektorem *prislusnost*.\n",
    "* Navíc vykreslí extra body v proměnné *stred*.\n",
    "    * Tyto body označí jinám markerem - například křížek.\n",
    "    * Obarví tyto body jinak - například černou.\n",
    "    \n",
    "> **POZN.:** Místo barvy zkuste dát vektor, ve kterém je do kterého shluku patří které pozorování."
   ]
  },
  {
   "cell_type": "code",
   "execution_count": 4,
   "metadata": {
    "collapsed": false
   },
   "outputs": [],
   "source": [
    "#cvičná data a jak vypadají\n",
    "X = np.array([[-1,-1],[-0.8,-1],[-1.1,-1],\n",
    "              [0,0],[0,0.2],[-0.1,0.2],\n",
    "              [0,2],[0.1,1.9],[-0.2,2.2]])\n",
    "prislusnost = [0,0,0,1,1,1,2,2,2]\n",
    "stred = np.array([[-0.5,-0.5],[0,1],[1,0]])"
   ]
  },
  {
   "cell_type": "code",
   "execution_count": 7,
   "metadata": {
    "collapsed": false
   },
   "outputs": [],
   "source": [
    "#vykreslete výše uvedená data dle specifikace\n",
    "\n",
    "#nechat\n",
    "plt.show()"
   ]
  },
  {
   "cell_type": "markdown",
   "metadata": {},
   "source": [
    "## Úloha 4 - E-step - přiřazení\n",
    "\n",
    "Nyní je potřeba udělat nejnáročnější část, a to přiřazení pozorování ke středům.\n",
    "\n",
    "Máme:\n",
    "* Pozorování v proměnné *X*.\n",
    "* Počet shluků v proměnné *k*.\n",
    "* Aktuální středy shluků v proměnné *stred*.\n",
    "* Připravenu matici pro výpočet vzdálenosti *vzdalenost*. Co to je? Jak to vypadá? - zobrazte si!\n",
    "\n",
    "Co musíme udělat:\n",
    "* Spočítat vzdálenost každého pozorování od každého středu. Kolik bude takových vzdáleností pro naše data?\n",
    "\n",
    "> **NÁPOVĚDA:** Máme-li vektory a,b, pak jejich vzálenost určíme jako *np.linalg.norm(a-b)*\n",
    "\n",
    "> **NÁPOVĚDA:** Použijte for cyklus, nebo cykly?\n",
    "\n",
    "> **NÁPOVĚDA:** Pro kontrolu je níže pokročilejší kód - výsledky se musí schodovat!! Kdo má hotové, může se na něj podívat."
   ]
  },
  {
   "cell_type": "code",
   "execution_count": 9,
   "metadata": {
    "collapsed": false
   },
   "outputs": [],
   "source": [
    "#cvičná data a jak vypadají\n",
    "X = np.array([[-1,-1],[-0.8,-1],[-1.1,-1],\n",
    "              [0,0],[0,0.2],[-0.1,0.2],\n",
    "              [0,2],[0.1,1.9],[-0.2,2.2]])\n",
    "k = 3\n",
    "stred = X[[0,3,5],:]"
   ]
  },
  {
   "cell_type": "code",
   "execution_count": 10,
   "metadata": {
    "collapsed": false
   },
   "outputs": [],
   "source": [
    "#proměnná pro vzdálnosti\n",
    "vzdalenost = np.array([[0.0 for col in range(k)] for row in range(X.shape[0])])\n",
    "\n"
   ]
  },
  {
   "cell_type": "code",
   "execution_count": 11,
   "metadata": {
    "collapsed": false
   },
   "outputs": [],
   "source": [
    "#proměnná pro vzdálenosti\n",
    "vzdalenost = np.array([[0.0 for col in range(k)] for row in range(X.shape[0])])\n",
    "\n",
    "#pokročilejší kód\n",
    "for i in range(0,k):\n",
    "    rozdil = X-np.array([stred[i,:]]*X.shape[0])\n",
    "    vzdalenost[:,i] = list([np.linalg.norm(x) for x in rozdil]) "
   ]
  },
  {
   "cell_type": "markdown",
   "metadata": {},
   "source": [
    "## Úloha 5 - M-step - optimalizace\n",
    "\n",
    "Máme:\n",
    "* Data *X*.\n",
    "* Počet shluků *k*.\n",
    "* *prislusnot* - příslušnost pozorování do shluků,\n",
    "* *stred* - staré středy.\n",
    "\n",
    "Co musíme udělat:\n",
    "* Do proměnné *střed* uložte nové středy shluků (nový střed je aritmetický průměr pozorování)."
   ]
  },
  {
   "cell_type": "code",
   "execution_count": 52,
   "metadata": {
    "collapsed": true
   },
   "outputs": [],
   "source": [
    "#cvičná data a jak vypadají\n",
    "X = np.array([[-1,-1],[-0.8,-1],[-1.1,-1],\n",
    "              [0,0],[0,0.2],[-0.1,0.2],\n",
    "              [0,2],[0.1,1.9],[-0.2,2.2]])\n",
    "k = 3"
   ]
  },
  {
   "cell_type": "code",
   "execution_count": 12,
   "metadata": {
    "collapsed": false
   },
   "outputs": [
    {
     "name": "stdout",
     "output_type": "stream",
     "text": [
      "[[-0.5 -0.5]\n",
      " [ 0.   1. ]\n",
      " [ 1.   0. ]]\n"
     ]
    }
   ],
   "source": [
    "#staré středy\n",
    "stred = np.array([[-0.5,-0.5],[0,1],[1,0]])\n",
    "print(stred)"
   ]
  },
  {
   "cell_type": "code",
   "execution_count": null,
   "metadata": {
    "collapsed": true
   },
   "outputs": [],
   "source": []
  }
 ],
 "metadata": {
  "anaconda-cloud": {},
  "kernelspec": {
   "display_name": "Python [default]",
   "language": "python",
   "name": "python3"
  },
  "language_info": {
   "codemirror_mode": {
    "name": "ipython",
    "version": 3
   },
   "file_extension": ".py",
   "mimetype": "text/x-python",
   "name": "python",
   "nbconvert_exporter": "python",
   "pygments_lexer": "ipython3",
   "version": "3.5.2"
  }
 },
 "nbformat": 4,
 "nbformat_minor": 2
}
