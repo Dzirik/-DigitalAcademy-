{
 "cells": [
  {
   "cell_type": "markdown",
   "metadata": {},
   "source": [
    "# Interpretace výsledků\n",
    "\n",
    "Na základě vyzkoumaných podkladů je nutné smysluplně sepsat doporučení."
   ]
  },
  {
   "cell_type": "markdown",
   "metadata": {},
   "source": [
    "# DÚ\n",
    "\n",
    "* Vyplnit  4 - final report."
   ]
  }
 ],
 "metadata": {
  "kernelspec": {
   "display_name": "Python [default]",
   "language": "python",
   "name": "python3"
  },
  "language_info": {
   "codemirror_mode": {
    "name": "ipython",
    "version": 3
   },
   "file_extension": ".py",
   "mimetype": "text/x-python",
   "name": "python",
   "nbconvert_exporter": "python",
   "pygments_lexer": "ipython3",
   "version": "3.5.2"
  }
 },
 "nbformat": 4,
 "nbformat_minor": 2
}
