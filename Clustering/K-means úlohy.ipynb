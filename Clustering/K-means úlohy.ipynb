{
 "cells": [
  {
   "cell_type": "markdown",
   "metadata": {},
   "source": [
    "# K-means úlohy pro sestavení třídy\n",
    "\n",
    "Tento notebook slouží jako dílčí hřiště pro implementaci třídy k-means.\n",
    "\n",
    ">**POZOR:** Každá úloha se skládá ze dvou buňek (cells) kódů - data a pak kód. Před každým spuštěním kódu doporučuji spoustit nejrve data!"
   ]
  },
  {
   "cell_type": "code",
   "execution_count": 1,
   "metadata": {
    "collapsed": true
   },
   "outputs": [],
   "source": [
    "import numpy as np\n",
    "import matplotlib.pyplot as plt"
   ]
  },
  {
   "cell_type": "markdown",
   "metadata": {},
   "source": [
    "## Úloha 1 - Předání dat\n",
    "\n",
    "V inicializaci třídy je třeba:\n",
    "* předat hodnotu *k* do proměnné *k* v třídě (metoda *__init__*),\n",
    "* předat data *X* do proměnné *X* v třídě (metoda *vlozData*)."
   ]
  },
  {
   "cell_type": "markdown",
   "metadata": {},
   "source": [
    "## Úloha 2 - Vykreslení dat\n",
    "\n",
    "aneb opakování matka moudrosti. Připravte kód, který:\n",
    "* Vykreslí ve 2D data v proměnné X.\n",
    "* Využijte maximum vlastních znalostí:\n",
    "    * Nastavte barvu bodů.\n",
    "    * Nastavte tvar bodů.\n",
    "    * Nastavte popisky os.\n",
    "    * Nazvěte graf.\n",
    "    * ...\n",
    "    \n",
    "> **POZOR** Místo *%matplotlib notebook* použijte v závěru příkaz *plt.show()*"
   ]
  },
  {
   "cell_type": "code",
   "execution_count": 4,
   "metadata": {
    "collapsed": false
   },
   "outputs": [
    {
     "data": {
      "text/plain": [
       "array([[-1. , -1. ],\n",
       "       [-0.8, -1. ],\n",
       "       [-1.1, -1. ],\n",
       "       [ 0. ,  0. ],\n",
       "       [ 0. ,  0.2],\n",
       "       [-0.1,  0.2],\n",
       "       [ 0. ,  2. ],\n",
       "       [ 0.1,  1.9],\n",
       "       [-0.2,  2.2]])"
      ]
     },
     "execution_count": 4,
     "metadata": {},
     "output_type": "execute_result"
    }
   ],
   "source": [
    "#cvičná data a jak vypadají\n",
    "X = np.array([[-1,-1],[-0.8,-1],[-1.1,-1],\n",
    "              [0,0],[0,0.2],[-0.1,0.2],\n",
    "              [0,2],[0.1,1.9],[-0.2,2.2]])\n",
    "X"
   ]
  },
  {
   "cell_type": "code",
   "execution_count": 5,
   "metadata": {
    "collapsed": false
   },
   "outputs": [
    {
     "data": {
      "image/png": "[encoded data removed]",
      "text/plain": [
       "<matplotlib.figure.Figure at 0x15da7cd65f8>"
      ]
     },
     "metadata": {},
     "output_type": "display_data"
    }
   ],
   "source": [
    "#vykreslete data dle specifikace\n",
    "plt.scatter(X[:,0],X[:,1])\n",
    "plt.show()"
   ]
  },
  {
   "cell_type": "markdown",
   "metadata": {},
   "source": [
    "Nyní využijte kód v třídě *kStredu* a upravte metodu *vykresliData*"
   ]
  },
  {
   "cell_type": "markdown",
   "metadata": {},
   "source": [
    "## Úloha 3 - Vykreslení shluků\n",
    "\n",
    "Připravte kód, který:\n",
    "* Vykreslí ve 2D data v proměnné *X*.\n",
    "* Obarví data podle příslušnosti dané vektorem *prislusnost*.\n",
    "* Navíc vykreslí extra body v proměnné *stred*.\n",
    "    * Tyto body označí jinám markerem - například křížek.\n",
    "    * Obarví tyto body jinak - například černou."
   ]
  },
  {
   "cell_type": "code",
   "execution_count": 6,
   "metadata": {
    "collapsed": false
   },
   "outputs": [],
   "source": [
    "#cvičná data a jak vypadají\n",
    "X = np.array([[-1,-1],[-0.8,-1],[-1.1,-1],\n",
    "              [0,0],[0,0.2],[-0.1,0.2],\n",
    "              [0,2],[0.1,1.9],[-0.2,2.2]])\n",
    "prislusnost = [0,0,0,1,1,1,2,2,2]\n",
    "stred = np.array([[-0.5,-0.5],[0,1],[1,0]])"
   ]
  },
  {
   "cell_type": "code",
   "execution_count": 44,
   "metadata": {
    "collapsed": false
   },
   "outputs": [
    {
     "data": {
      "image/png": "[encoded data removed]",
      "text/plain": [
       "<matplotlib.figure.Figure at 0x15da85fe780>"
      ]
     },
     "metadata": {},
     "output_type": "display_data"
    }
   ],
   "source": [
    "#vykreslete výše uvedená data dle specifikace\n",
    "plt.scatter(X[:,0],X[:,1],c=prislusnost,cmap='rainbow')\n",
    "plt.scatter(stred[:, 0], stred[:, 1], s = 300, c = \"black\",edgecolors=\"black\",marker=\"+\")\n",
    "plt.show()"
   ]
  },
  {
   "cell_type": "markdown",
   "metadata": {},
   "source": [
    "## Úloha 4 - E-step - přiřazení\n",
    "\n",
    "Nyní je potřeba udělat nejnáročnější část, a to přiřazení pozorování ke středům.\n",
    "\n",
    "Máme:\n",
    "* Pozorování v proměnné *X*.\n",
    "* Počet shluků v proměnné *k*.\n",
    "* Aktuální středy shluků v proměnné *stred*.\n",
    "* Připravenu matici pro výpočet vzdálenosti *vzdalenost*. Co to je? Jak to vypadá? - zobrazte si!\n",
    "\n",
    "Co musíme udělat:\n",
    "* Spočítat vzdálenost každého pozorování od každého středu. Kolik bude takových vzdáleností pro naše data?\n",
    "\n",
    "> **NÁPOVĚDA:** Máme-li vektory a,b, pak jejich vzálenost určíme jako *np.linalg.norm(a-b)*\n",
    "\n",
    "> **NÁPOVĚDA:** Použijte for cyklus, nebo cykly?\n",
    "\n",
    "> **NÁPOVĚDA:** Pro kontrolu je níže pokročilejší kód - výsledky se musí schodovat!! Kdo má hotové, může se na něj podívat."
   ]
  },
  {
   "cell_type": "code",
   "execution_count": 49,
   "metadata": {
    "collapsed": false
   },
   "outputs": [],
   "source": [
    "#cvičná data a jak vypadají\n",
    "X = np.array([[-1,-1],[-0.8,-1],[-1.1,-1],\n",
    "              [0,0],[0,0.2],[-0.1,0.2],\n",
    "              [0,2],[0.1,1.9],[-0.2,2.2]])\n",
    "k = 3\n",
    "stred = X[[0,3,5],:]"
   ]
  },
  {
   "cell_type": "code",
   "execution_count": 50,
   "metadata": {
    "collapsed": false
   },
   "outputs": [
    {
     "name": "stdout",
     "output_type": "stream",
     "text": [
      "[[ 0.          1.41421356  1.5       ]\n",
      " [ 0.2         1.28062485  1.3892444 ]\n",
      " [ 0.1         1.48660687  1.56204994]\n",
      " [ 1.41421356  0.          0.2236068 ]\n",
      " [ 1.56204994  0.2         0.1       ]\n",
      " [ 1.5         0.2236068   0.        ]\n",
      " [ 3.16227766  2.          1.80277564]\n",
      " [ 3.10161248  1.90262976  1.71172428]\n",
      " [ 3.2984845   2.2090722   2.00249844]]\n",
      "35.3472916728\n"
     ]
    }
   ],
   "source": [
    "#proměnná pro vzdálnosti\n",
    "vzdalenost = np.array([[0.0 for col in range(k)] for row in range(X.shape[0])])\n",
    "\n",
    "#zde napište kód\n",
    "for i in range(0,X.shape[0]):\n",
    "    for j in range(0,k):\n",
    "        vzdalenost[i,j] = np.linalg.norm(X[i,:]-stred[j,:])\n",
    "\n",
    "#výpis výsledku\n",
    "print(vzdalenost)\n",
    "print(sum(sum(vzdalenost)))\n",
    "\n",
    "#příslušnost\n",
    "prislusnost = vzdalenost.argmin(axis=1)"
   ]
  },
  {
   "cell_type": "code",
   "execution_count": 54,
   "metadata": {
    "collapsed": false
   },
   "outputs": [
    {
     "name": "stdout",
     "output_type": "stream",
     "text": [
      "[[ 0.03333333  1.41421356  2.49230817]\n",
      " [ 0.16666667  1.28062485  2.42231294]\n",
      " [ 0.13333333  1.48660687  2.53250864]\n",
      " [ 1.39084307  0.          1.30061524]\n",
      " [ 1.54092324  0.2         1.10072703]\n",
      " [ 1.48024022  0.2236068   1.10163515]\n",
      " [ 3.15189537  2.          0.70114193]\n",
      " [ 3.08994786  1.90262976  0.61611687]\n",
      " [ 3.29055889  2.2090722   0.91411159]]\n",
      "38.1759735887\n"
     ]
    }
   ],
   "source": [
    "#proměnná pro vzdálenosti\n",
    "vzdalenost = np.array([[0.0 for col in range(k)] for row in range(X.shape[0])])\n",
    "\n",
    "#pokročilejší kód\n",
    "for i in range(0,k):\n",
    "    rozdil = X-np.array([stred[i,:]]*X.shape[0])\n",
    "    vzdalenost[:,i] = list([np.linalg.norm(x) for x in rozdil]) \n",
    "  \n",
    "#výpis\n",
    "print(vzdalenost)\n",
    "print(sum(sum(vzdalenost)))\n",
    "\n",
    "#příslušnost\n",
    "prislusnost = vzdalenost.argmin(axis=1)"
   ]
  },
  {
   "cell_type": "markdown",
   "metadata": {},
   "source": [
    "## Úloha 5 - M-step - optimalizace\n",
    "\n",
    "Máme:\n",
    "* Data *X*.\n",
    "* Počet shluků *k*.\n",
    "* *prislusnot* - příslušnost pozorování do shluků,\n",
    "* *stred* - staré středy.\n",
    "\n",
    "Co musíme udělat:\n",
    "* Do proměnné *střed* uložte nové středy shluků (nový střed je aritmetický průměr pozorování)."
   ]
  },
  {
   "cell_type": "code",
   "execution_count": 52,
   "metadata": {
    "collapsed": true
   },
   "outputs": [],
   "source": [
    "#cvičná data a jak vypadají\n",
    "X = np.array([[-1,-1],[-0.8,-1],[-1.1,-1],\n",
    "              [0,0],[0,0.2],[-0.1,0.2],\n",
    "              [0,2],[0.1,1.9],[-0.2,2.2]])\n",
    "k = 3"
   ]
  },
  {
   "cell_type": "code",
   "execution_count": 53,
   "metadata": {
    "collapsed": false
   },
   "outputs": [
    {
     "name": "stdout",
     "output_type": "stream",
     "text": [
      "[[-0.5 -0.5]\n",
      " [ 0.   1. ]\n",
      " [ 1.   0. ]]\n",
      "[[-0.96666667 -1.        ]\n",
      " [ 0.          0.        ]\n",
      " [-0.04        1.3       ]]\n"
     ]
    }
   ],
   "source": [
    "#staré středy\n",
    "stred = np.array([[-0.5,-0.5],[0,1],[1,0]])\n",
    "print(stred)\n",
    "\n",
    "#zde napište kód\n",
    "for i in range(0,k):\n",
    "    stred[i,:]=X[prislusnost == i,:].mean(axis=0)\n",
    "    \n",
    "#nové středy\n",
    "print(stred)"
   ]
  },
  {
   "cell_type": "markdown",
   "metadata": {},
   "source": [
    "## Poznámky"
   ]
  },
  {
   "cell_type": "markdown",
   "metadata": {},
   "source": [
    "> **POZN:** Toto má hlavně výukový charakter, aby jste si uvědomili, co je na pozadí.\n",
    "\n",
    "\n",
    "* Raw vs final scripts.\n",
    "* Ladění programu (debuggin) - knihovna [pdb](https://docs.python.org/2/library/pdb.html).\n",
    "* Programování vlatních algoritmů je až poslední možný krok, nejdříve se používají to, co už vytvořili jiní (Google, rešerše).\n",
    "* Maximálně se snažte používat práci jiných."
   ]
  },
  {
   "cell_type": "markdown",
   "metadata": {},
   "source": [
    "## Proč Python"
   ]
  },
  {
   "cell_type": "markdown",
   "metadata": {},
   "source": [
    "Můžete si napsat svůj vlastní algoritmus, nebo vylepšit stávající."
   ]
  },
  {
   "cell_type": "markdown",
   "metadata": {},
   "source": [
    "## DÚ"
   ]
  },
  {
   "cell_type": "markdown",
   "metadata": {},
   "source": [
    "Sestavte funkční třídu a použijte ji na trička data."
   ]
  }
 ],
 "metadata": {
  "anaconda-cloud": {},
  "kernelspec": {
   "display_name": "Python [default]",
   "language": "python",
   "name": "python3"
  },
  "language_info": {
   "codemirror_mode": {
    "name": "ipython",
    "version": 3
   },
   "file_extension": ".py",
   "mimetype": "text/x-python",
   "name": "python",
   "nbconvert_exporter": "python",
   "pygments_lexer": "ipython3",
   "version": "3.5.2"
  }
 },
 "nbformat": 4,
 "nbformat_minor": 2
}
