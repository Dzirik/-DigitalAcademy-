{
 "cells": [
  {
   "cell_type": "markdown",
   "metadata": {},
   "source": [
    "# Otázka"
   ]
  },
  {
   "cell_type": "markdown",
   "metadata": {},
   "source": [
    "**Zrcadlo zrcadlo, řekni mi ...**\n",
    "\n",
    "1. Chci ...\n",
    "2. ...\n",
    "\n",
    "\n",
    "\n",
    "1. **Kolik velikostí triček**\n",
    "2. **Jaké velikosti - definovat je**"
   ]
  },
  {
   "cell_type": "markdown",
   "metadata": {},
   "source": [
    "# Poznámky"
   ]
  },
  {
   "cell_type": "markdown",
   "metadata": {},
   "source": [
    "## Markdown\n",
    "\n",
    "[Markdown syntaxt](http://jupyter-notebook.readthedocs.io/en/latest/examples/Notebook/Working%20With%20Markdown%20Cells.html)\n",
    "\n",
    "**tučně**\n",
    "*kurzíva*\n",
    "\n",
    "* odrážky\n",
    "\n",
    "- taky odrážky\n",
    "    \n",
    "    - nižší úroveň\n",
    "    \n",
    "    \n",
    "1. První\n",
    "2. Druhá\n",
    "\n",
    "    a podúroveň\n",
    "    \n",
    "Dokonce i rovnice!\n",
    "\n",
    "$$e^x=\\sum_{i=0}^\\infty \\frac{1}{i!}x^i$$"
   ]
  },
  {
   "cell_type": "markdown",
   "metadata": {},
   "source": [
    "## Projektové řízení\n",
    "\n",
    "**Literate programming**\n",
    "* Kombinace textu *pro lidi* - psaný text, obrázky, odrážky - a textu *pro stroje* - kód - se nazývá [literate programming](https://en.wikipedia.org/wiki/Literate_programming), o kterém se dozvíte více dále v bloku."
   ]
  },
  {
   "cell_type": "markdown",
   "metadata": {},
   "source": [
    "## Proč Python\n",
    "\n",
    "Porovnejme Python s Excelem, což je standardní nástroj pro začátečnickou práci s daty.\n",
    "* Který nástroj umožňuje literate programming?"
   ]
  },
  {
   "cell_type": "markdown",
   "metadata": {},
   "source": [
    "# DÚ\n",
    "\n",
    "* Doplňte část týkající se kapitoly *Otázky* do finálního reportu.\n",
    "* Vytvořte novou kapitolu *6. Odměna*, zjistěte, jak se vkládají obrázky a vložte obrázek místa, kam byste jako odměnu za vynaloženou práci chtěli jet.\n",
    "* Zjistěte si, co je to literate programming a zamysli se nad tím, proč by to mělo být důležité?"
   ]
  }
 ],
 "metadata": {
  "anaconda-cloud": {},
  "kernelspec": {
   "display_name": "Python [default]",
   "language": "python",
   "name": "python3"
  },
  "language_info": {
   "codemirror_mode": {
    "name": "ipython",
    "version": 3
   },
   "file_extension": ".py",
   "mimetype": "text/x-python",
   "name": "python",
   "nbconvert_exporter": "python",
   "pygments_lexer": "ipython3",
   "version": "3.5.2"
  }
 },
 "nbformat": 4,
 "nbformat_minor": 2
}
