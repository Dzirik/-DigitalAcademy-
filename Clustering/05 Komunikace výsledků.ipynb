{
 "cells": [
  {
   "cell_type": "markdown",
   "metadata": {},
   "source": [
    "# Komunikace výsledků\n",
    "\n",
    "Nyní je třeba seznámit zainteresované lidi. Podle situace se sestaví vhodný dokument/prezentace a zašle se potřbným lidem."
   ]
  },
  {
   "cell_type": "markdown",
   "metadata": {},
   "source": [
    "# Poznámky"
   ]
  },
  {
   "cell_type": "markdown",
   "metadata": {},
   "source": [
    "## Role komunikace v oblasti data science\n",
    "\n",
    "Komunikace je nesmírně důležitá a souvisí s pojmem **nasazení**, o které si ještě v bloku povíme ..."
   ]
  },
  {
   "cell_type": "markdown",
   "metadata": {},
   "source": [
    "# DÚ\n",
    "\n",
    "* Vyplnit  5 - final report.\n",
    "* Uložte notebook jako html a pošlete ho ostatním členům týmu k validaci - domluvte si interně termím odevzdání a kontroly."
   ]
  }
 ],
 "metadata": {
  "anaconda-cloud": {},
  "kernelspec": {
   "display_name": "Python [default]",
   "language": "python",
   "name": "python3"
  },
  "language_info": {
   "codemirror_mode": {
    "name": "ipython",
    "version": 3
   },
   "file_extension": ".py",
   "mimetype": "text/x-python",
   "name": "python",
   "nbconvert_exporter": "python",
   "pygments_lexer": "ipython3",
   "version": "3.5.2"
  }
 },
 "nbformat": 4,
 "nbformat_minor": 2
}
